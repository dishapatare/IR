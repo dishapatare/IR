{
 "cells": [
  {
   "cell_type": "markdown",
   "id": "9c6b0bce",
   "metadata": {},
   "source": [
    "Name : Disha Patare<br>\n",
    "Roll No. : 42548<br>\n",
    "Branch : B.E AI&DS<br>\n",
    "Batch : B2<br>\n",
    "Computer Laboratory II : Information Retrieval"
   ]
  },
  {
   "cell_type": "markdown",
   "id": "0b1841a1",
   "metadata": {},
   "source": [
    "Assignment 3 : Write a program to construct a Bayesian network considering medical data. Use this model to \n",
    "demonstrate the diagnosis of heart patients using the standard Heart Disease Data Set (You can use \n",
    "Java/Python ML library classes/API."
   ]
  },
  {
   "cell_type": "code",
   "execution_count": 1,
   "id": "3637fe46",
   "metadata": {},
   "outputs": [],
   "source": [
    "import pandas as pd\n",
    "from pgmpy.estimators import MaximumLikelihoodEstimator\n",
    "from pgmpy.models import BayesianNetwork\n",
    "from pgmpy.inference import VariableElimination"
   ]
  },
  {
   "cell_type": "code",
   "execution_count": 2,
   "id": "d7eddd8d",
   "metadata": {},
   "outputs": [
    {
     "name": "stdout",
     "output_type": "stream",
     "text": [
      "    age  Gender  Family  diet  Lifestyle  cholestrol  heartdisease\n",
      "0     0       0       1     1          3           0             1\n",
      "1     0       1       1     1          3           0             1\n",
      "2     1       0       0     0          2           1             1\n",
      "3     4       0       1     1          3           2             0\n",
      "4     3       1       1     0          0           2             0\n",
      "5     2       0       1     1          1           0             1\n",
      "6     4       0       1     0          2           0             1\n",
      "7     0       0       1     1          3           0             1\n",
      "8     3       1       1     0          0           2             0\n",
      "9     1       1       0     0          0           2             1\n",
      "10    4       1       0     1          2           0             1\n",
      "11    4       0       1     1          3           2             0\n",
      "12    2       1       0     0          0           0             0\n",
      "13    2       0       1     1          1           0             1\n",
      "14    3       1       1     0          0           1             0\n",
      "15    0       0       1     0          0           2             1\n",
      "16    1       1       0     1          2           1             1\n",
      "17    3       1       1     1          0           1             0\n",
      "18    4       0       1     1          3           2             0\n"
     ]
    }
   ],
   "source": [
    "data = pd.read_csv(\"heart disease.csv\")\n",
    "heart_disease = pd.DataFrame(data)\n",
    "print(heart_disease)"
   ]
  },
  {
   "cell_type": "code",
   "execution_count": 3,
   "id": "95b58876",
   "metadata": {},
   "outputs": [],
   "source": [
    "model = BayesianNetwork([\n",
    "    ('age', 'Lifestyle'),('Gender', 'Lifestyle'),\n",
    "    ('Family', 'heartdisease'),\n",
    "    ('diet', 'cholestrol'),\n",
    "    ('Lifestyle', 'diet'),\n",
    "    ('cholestrol', 'heartdisease'),\n",
    "    ('diet', 'cholestrol')\n",
    "])"
   ]
  },
  {
   "cell_type": "code",
   "execution_count": 4,
   "id": "3c6ec945",
   "metadata": {},
   "outputs": [],
   "source": [
    "#Train the Bayesian Network using Maximum Likelihood Estimation\n",
    "model.fit(heart_disease, estimator=MaximumLikelihoodEstimator)"
   ]
  },
  {
   "cell_type": "code",
   "execution_count": 5,
   "id": "098bf6af",
   "metadata": {},
   "outputs": [],
   "source": [
    "#Perform Inference\n",
    "HeartDisease_infer = VariableElimination(model)"
   ]
  },
  {
   "cell_type": "code",
   "execution_count": 6,
   "id": "b28f3c4b",
   "metadata": {},
   "outputs": [
    {
     "name": "stdout",
     "output_type": "stream",
     "text": [
      "For Age enter SuperSeniorCitizen:0, SeniorCitizen:1, MiddleAged:2, Youth:3, Teen:4\n",
      "For Gender enter Male:0, Female:1\n",
      "For Family History enter Yes:1, No:0\n",
      "For Diet enter High:0, Medium:1\n",
      "for LifeStyle enter Athlete:0, Active:1, Moderate:2, Sedentary:3\n",
      "for Cholesterol enter High:0, BorderLine:1, Normal:2\n"
     ]
    }
   ],
   "source": [
    "print('For Age enter SuperSeniorCitizen:0, SeniorCitizen:1, MiddleAged:2, Youth:3, Teen:4')\n",
    "print('For Gender enter Male:0, Female:1')\n",
    "print('For Family History enter Yes:1, No:0')\n",
    "print('For Diet enter High:0, Medium:1')\n",
    "print('for LifeStyle enter Athlete:0, Active:1, Moderate:2, Sedentary:3')\n",
    "print('for Cholesterol enter High:0, BorderLine:1, Normal:2')"
   ]
  },
  {
   "cell_type": "code",
   "execution_count": 7,
   "id": "7eaa8f90",
   "metadata": {},
   "outputs": [
    {
     "name": "stdout",
     "output_type": "stream",
     "text": [
      "Enter Age: 3\n",
      "Enter Gender: 0\n",
      "Enter Family History: 0\n",
      "Enter Diet: 1\n",
      "Enter Lifestyle: 2\n",
      "Enter Cholestrol: 0\n",
      "+-----------------+---------------------+\n",
      "| heartdisease    |   phi(heartdisease) |\n",
      "+=================+=====================+\n",
      "| heartdisease(0) |              0.5000 |\n",
      "+-----------------+---------------------+\n",
      "| heartdisease(1) |              0.5000 |\n",
      "+-----------------+---------------------+\n"
     ]
    }
   ],
   "source": [
    "q = HeartDisease_infer.query(variables=['heartdisease'], evidence={\n",
    "    'age': int(input('Enter Age: ')),\n",
    "    'Gender': int(input('Enter Gender: ')),\n",
    "    'Family': int(input('Enter Family History: ')),\n",
    "    'diet': int(input('Enter Diet: ')),\n",
    "    'Lifestyle': int(input('Enter Lifestyle: ')),\n",
    "    'cholestrol': int(input('Enter Cholestrol: '))\n",
    "})\n",
    "\n",
    "print(q)"
   ]
  },
  {
   "cell_type": "code",
   "execution_count": null,
   "id": "f61688aa",
   "metadata": {},
   "outputs": [],
   "source": []
  }
 ],
 "metadata": {
  "kernelspec": {
   "display_name": "Python 3 (ipykernel)",
   "language": "python",
   "name": "python3"
  },
  "language_info": {
   "codemirror_mode": {
    "name": "ipython",
    "version": 3
   },
   "file_extension": ".py",
   "mimetype": "text/x-python",
   "name": "python",
   "nbconvert_exporter": "python",
   "pygments_lexer": "ipython3",
   "version": "3.9.7"
  }
 },
 "nbformat": 4,
 "nbformat_minor": 5
}
